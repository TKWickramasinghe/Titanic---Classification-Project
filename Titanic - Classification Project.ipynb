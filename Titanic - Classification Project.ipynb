{
 "cells": [
  {
   "cell_type": "markdown",
   "id": "0fac573a",
   "metadata": {},
   "source": [
    "# Project 1 - Titanic Project\n",
    "\n",
    "#### Kaggle Leaderboard Score: 0.78708"
   ]
  },
  {
   "cell_type": "code",
   "execution_count": 1,
   "id": "4a6cbdda",
   "metadata": {},
   "outputs": [],
   "source": [
    "import pandas as pd\n",
    "import numpy as np\n",
    "import matplotlib.pyplot as plt\n",
    "%matplotlib inline\n",
    "import seaborn as sns\n",
    "\n",
    "np.random.seed(11)\n",
    "\n",
    "from sklearn.model_selection import train_test_split\n",
    "\n",
    "from sklearn.pipeline import Pipeline\n",
    "from sklearn.impute import SimpleImputer\n",
    "from sklearn.preprocessing import StandardScaler\n",
    "from sklearn.preprocessing import OneHotEncoder\n",
    "from sklearn.base import BaseEstimator, TransformerMixin\n",
    "\n",
    "from feature_engine.encoding import RareLabelEncoder\n",
    "\n",
    "from sklearn.compose import ColumnTransformer\n",
    "\n",
    "from xgboost import XGBClassifier\n",
    "from sklearn.linear_model import LogisticRegression\n",
    "from sklearn.svm import SVC\n",
    "from sklearn.ensemble import RandomForestClassifier\n",
    "from sklearn.ensemble import VotingClassifier\n",
    "\n",
    "\n",
    "from sklearn.model_selection import cross_val_score\n",
    "from sklearn.model_selection import GridSearchCV, RandomizedSearchCV\n",
    "from sklearn.model_selection import StratifiedKFold\n",
    "from sklearn.metrics import accuracy_score\n",
    "\n",
    "from sklearn.feature_selection import mutual_info_classif, mutual_info_regression\n",
    "from sklearn.feature_selection import SelectKBest, SelectPercentile\n",
    "\n",
    "pd.set_option('display.max_columns',None)"
   ]
  },
  {
   "cell_type": "code",
   "execution_count": 2,
   "id": "e443b996",
   "metadata": {},
   "outputs": [],
   "source": [
    "train = pd.read_csv(\"train.csv\").set_index(\"PassengerId\")\n",
    "test = pd.read_csv('test.csv').set_index('PassengerId')"
   ]
  },
  {
   "cell_type": "code",
   "execution_count": 3,
   "id": "3291aca0",
   "metadata": {},
   "outputs": [
    {
     "data": {
      "text/html": [
       "<div>\n",
       "<style scoped>\n",
       "    .dataframe tbody tr th:only-of-type {\n",
       "        vertical-align: middle;\n",
       "    }\n",
       "\n",
       "    .dataframe tbody tr th {\n",
       "        vertical-align: top;\n",
       "    }\n",
       "\n",
       "    .dataframe thead th {\n",
       "        text-align: right;\n",
       "    }\n",
       "</style>\n",
       "<table border=\"1\" class=\"dataframe\">\n",
       "  <thead>\n",
       "    <tr style=\"text-align: right;\">\n",
       "      <th></th>\n",
       "      <th>Survived</th>\n",
       "      <th>Pclass</th>\n",
       "      <th>Name</th>\n",
       "      <th>Sex</th>\n",
       "      <th>Age</th>\n",
       "      <th>SibSp</th>\n",
       "      <th>Parch</th>\n",
       "      <th>Ticket</th>\n",
       "      <th>Fare</th>\n",
       "      <th>Cabin</th>\n",
       "      <th>Embarked</th>\n",
       "    </tr>\n",
       "    <tr>\n",
       "      <th>PassengerId</th>\n",
       "      <th></th>\n",
       "      <th></th>\n",
       "      <th></th>\n",
       "      <th></th>\n",
       "      <th></th>\n",
       "      <th></th>\n",
       "      <th></th>\n",
       "      <th></th>\n",
       "      <th></th>\n",
       "      <th></th>\n",
       "      <th></th>\n",
       "    </tr>\n",
       "  </thead>\n",
       "  <tbody>\n",
       "    <tr>\n",
       "      <th>1</th>\n",
       "      <td>0</td>\n",
       "      <td>3</td>\n",
       "      <td>Braund, Mr. Owen Harris</td>\n",
       "      <td>male</td>\n",
       "      <td>22.0</td>\n",
       "      <td>1</td>\n",
       "      <td>0</td>\n",
       "      <td>A/5 21171</td>\n",
       "      <td>7.2500</td>\n",
       "      <td>NaN</td>\n",
       "      <td>S</td>\n",
       "    </tr>\n",
       "    <tr>\n",
       "      <th>2</th>\n",
       "      <td>1</td>\n",
       "      <td>1</td>\n",
       "      <td>Cumings, Mrs. John Bradley (Florence Briggs Th...</td>\n",
       "      <td>female</td>\n",
       "      <td>38.0</td>\n",
       "      <td>1</td>\n",
       "      <td>0</td>\n",
       "      <td>PC 17599</td>\n",
       "      <td>71.2833</td>\n",
       "      <td>C85</td>\n",
       "      <td>C</td>\n",
       "    </tr>\n",
       "    <tr>\n",
       "      <th>3</th>\n",
       "      <td>1</td>\n",
       "      <td>3</td>\n",
       "      <td>Heikkinen, Miss. Laina</td>\n",
       "      <td>female</td>\n",
       "      <td>26.0</td>\n",
       "      <td>0</td>\n",
       "      <td>0</td>\n",
       "      <td>STON/O2. 3101282</td>\n",
       "      <td>7.9250</td>\n",
       "      <td>NaN</td>\n",
       "      <td>S</td>\n",
       "    </tr>\n",
       "    <tr>\n",
       "      <th>4</th>\n",
       "      <td>1</td>\n",
       "      <td>1</td>\n",
       "      <td>Futrelle, Mrs. Jacques Heath (Lily May Peel)</td>\n",
       "      <td>female</td>\n",
       "      <td>35.0</td>\n",
       "      <td>1</td>\n",
       "      <td>0</td>\n",
       "      <td>113803</td>\n",
       "      <td>53.1000</td>\n",
       "      <td>C123</td>\n",
       "      <td>S</td>\n",
       "    </tr>\n",
       "    <tr>\n",
       "      <th>5</th>\n",
       "      <td>0</td>\n",
       "      <td>3</td>\n",
       "      <td>Allen, Mr. William Henry</td>\n",
       "      <td>male</td>\n",
       "      <td>35.0</td>\n",
       "      <td>0</td>\n",
       "      <td>0</td>\n",
       "      <td>373450</td>\n",
       "      <td>8.0500</td>\n",
       "      <td>NaN</td>\n",
       "      <td>S</td>\n",
       "    </tr>\n",
       "  </tbody>\n",
       "</table>\n",
       "</div>"
      ],
      "text/plain": [
       "             Survived  Pclass  \\\n",
       "PassengerId                     \n",
       "1                   0       3   \n",
       "2                   1       1   \n",
       "3                   1       3   \n",
       "4                   1       1   \n",
       "5                   0       3   \n",
       "\n",
       "                                                          Name     Sex   Age  \\\n",
       "PassengerId                                                                    \n",
       "1                                      Braund, Mr. Owen Harris    male  22.0   \n",
       "2            Cumings, Mrs. John Bradley (Florence Briggs Th...  female  38.0   \n",
       "3                                       Heikkinen, Miss. Laina  female  26.0   \n",
       "4                 Futrelle, Mrs. Jacques Heath (Lily May Peel)  female  35.0   \n",
       "5                                     Allen, Mr. William Henry    male  35.0   \n",
       "\n",
       "             SibSp  Parch            Ticket     Fare Cabin Embarked  \n",
       "PassengerId                                                          \n",
       "1                1      0         A/5 21171   7.2500   NaN        S  \n",
       "2                1      0          PC 17599  71.2833   C85        C  \n",
       "3                0      0  STON/O2. 3101282   7.9250   NaN        S  \n",
       "4                1      0            113803  53.1000  C123        S  \n",
       "5                0      0            373450   8.0500   NaN        S  "
      ]
     },
     "execution_count": 3,
     "metadata": {},
     "output_type": "execute_result"
    }
   ],
   "source": [
    "train.head()"
   ]
  },
  {
   "cell_type": "markdown",
   "id": "b0f8c8c5",
   "metadata": {},
   "source": [
    "## Explonatory Data Analysis"
   ]
  },
  {
   "cell_type": "code",
   "execution_count": 4,
   "id": "6dca101a",
   "metadata": {},
   "outputs": [
    {
     "data": {
      "text/plain": [
       "(891, 11)"
      ]
     },
     "execution_count": 4,
     "metadata": {},
     "output_type": "execute_result"
    }
   ],
   "source": [
    "train.shape"
   ]
  },
  {
   "cell_type": "code",
   "execution_count": 5,
   "id": "87ac48b9",
   "metadata": {},
   "outputs": [
    {
     "name": "stdout",
     "output_type": "stream",
     "text": [
      "<class 'pandas.core.frame.DataFrame'>\n",
      "Int64Index: 891 entries, 1 to 891\n",
      "Data columns (total 11 columns):\n",
      " #   Column    Non-Null Count  Dtype  \n",
      "---  ------    --------------  -----  \n",
      " 0   Survived  891 non-null    int64  \n",
      " 1   Pclass    891 non-null    int64  \n",
      " 2   Name      891 non-null    object \n",
      " 3   Sex       891 non-null    object \n",
      " 4   Age       714 non-null    float64\n",
      " 5   SibSp     891 non-null    int64  \n",
      " 6   Parch     891 non-null    int64  \n",
      " 7   Ticket    891 non-null    object \n",
      " 8   Fare      891 non-null    float64\n",
      " 9   Cabin     204 non-null    object \n",
      " 10  Embarked  889 non-null    object \n",
      "dtypes: float64(2), int64(4), object(5)\n",
      "memory usage: 83.5+ KB\n"
     ]
    }
   ],
   "source": [
    "train.info()"
   ]
  },
  {
   "cell_type": "code",
   "execution_count": 6,
   "id": "3d0c391b",
   "metadata": {},
   "outputs": [
    {
     "data": {
      "text/plain": [
       "Survived    0.000000\n",
       "Pclass      0.000000\n",
       "Name        0.000000\n",
       "Sex         0.000000\n",
       "Age         0.198653\n",
       "SibSp       0.000000\n",
       "Parch       0.000000\n",
       "Ticket      0.000000\n",
       "Fare        0.000000\n",
       "Cabin       0.771044\n",
       "Embarked    0.002245\n",
       "dtype: float64"
      ]
     },
     "execution_count": 6,
     "metadata": {},
     "output_type": "execute_result"
    }
   ],
   "source": [
    "train.isna().mean()"
   ]
  },
  {
   "cell_type": "code",
   "execution_count": 7,
   "id": "2add506d",
   "metadata": {},
   "outputs": [
    {
     "data": {
      "image/png": "[encoded data removed]",
      "text/plain": [
       "<Figure size 720x360 with 2 Axes>"
      ]
     },
     "metadata": {
      "needs_background": "light"
     },
     "output_type": "display_data"
    }
   ],
   "source": [
    "corr_matrix = train.corr()\n",
    "plt.figure(figsize=(10,5))\n",
    "sns.heatmap(corr_matrix, annot=True, linewidth=0.5, fmt='.2f',cmap='YlGnBu');"
   ]
  },
  {
   "cell_type": "code",
   "execution_count": 8,
   "id": "5aaf3dbc",
   "metadata": {},
   "outputs": [
    {
     "data": {
      "text/plain": [
       "0    549\n",
       "1    342\n",
       "Name: Survived, dtype: int64"
      ]
     },
     "execution_count": 8,
     "metadata": {},
     "output_type": "execute_result"
    }
   ],
   "source": [
    "train['Survived'].value_counts()"
   ]
  },
  {
   "cell_type": "code",
   "execution_count": 9,
   "id": "5cc6d4d9",
   "metadata": {},
   "outputs": [
    {
     "data": {
      "image/png": "[encoded data removed]",
      "text/plain": [
       "<Figure size 432x288 with 1 Axes>"
      ]
     },
     "metadata": {
      "needs_background": "light"
     },
     "output_type": "display_data"
    }
   ],
   "source": [
    "train['Survived'].value_counts().plot.bar();"
   ]
  },
  {
   "cell_type": "code",
   "execution_count": 10,
   "id": "a60a0515",
   "metadata": {},
   "outputs": [
    {
     "name": "stdout",
     "output_type": "stream",
     "text": [
      "   Pclass  Survived\n",
      "0       1  0.629630\n",
      "1       2  0.472826\n",
      "2       3  0.242363\n"
     ]
    }
   ],
   "source": [
    "print (train[[\"Pclass\", \"Survived\"]].groupby(['Pclass'], as_index=False).mean())"
   ]
  },
  {
   "cell_type": "code",
   "execution_count": 11,
   "id": "9050ae3f",
   "metadata": {},
   "outputs": [
    {
     "data": {
      "image/png": "[encoded data removed]",
      "text/plain": [
       "<Figure size 432x288 with 1 Axes>"
      ]
     },
     "metadata": {
      "needs_background": "light"
     },
     "output_type": "display_data"
    }
   ],
   "source": [
    "pd.crosstab(train['Survived'],train['Pclass']).plot(kind='bar');"
   ]
  },
  {
   "cell_type": "code",
   "execution_count": 12,
   "id": "948ef131",
   "metadata": {},
   "outputs": [
    {
     "name": "stdout",
     "output_type": "stream",
     "text": [
      "      Sex  Survived\n",
      "0  female  0.742038\n",
      "1    male  0.188908\n"
     ]
    }
   ],
   "source": [
    "print (train[[\"Sex\", \"Survived\"]].groupby(['Sex'], as_index=False).mean())"
   ]
  },
  {
   "cell_type": "code",
   "execution_count": 13,
   "id": "9a2c8b0d",
   "metadata": {},
   "outputs": [
    {
     "data": {
      "image/png": "[encoded data removed]",
      "text/plain": [
       "<Figure size 432x288 with 1 Axes>"
      ]
     },
     "metadata": {
      "needs_background": "light"
     },
     "output_type": "display_data"
    }
   ],
   "source": [
    "pd.crosstab(train['Survived'],train['Sex']).plot(kind='bar');"
   ]
  },
  {
   "cell_type": "code",
   "execution_count": 14,
   "id": "e50fdf6d",
   "metadata": {},
   "outputs": [
    {
     "name": "stdout",
     "output_type": "stream",
     "text": [
      "  Embarked  Survived\n",
      "0        C  0.553571\n",
      "1        Q  0.389610\n",
      "2        S  0.336957\n"
     ]
    }
   ],
   "source": [
    "print (train[[\"Embarked\", \"Survived\"]].groupby(['Embarked'], as_index=False).mean())"
   ]
  },
  {
   "cell_type": "code",
   "execution_count": 15,
   "id": "233a4cae",
   "metadata": {},
   "outputs": [
    {
     "data": {
      "image/png": "[encoded data removed]",
      "text/plain": [
       "<Figure size 432x288 with 1 Axes>"
      ]
     },
     "metadata": {
      "needs_background": "light"
     },
     "output_type": "display_data"
    }
   ],
   "source": [
    "pd.crosstab(train['Survived'],train['Embarked']).plot(kind='bar');"
   ]
  },
  {
   "cell_type": "code",
   "execution_count": 16,
   "id": "19747e02",
   "metadata": {},
   "outputs": [
    {
     "name": "stdout",
     "output_type": "stream",
     "text": [
      "   SibSp  Survived\n",
      "0      0  0.345395\n",
      "1      1  0.535885\n",
      "2      2  0.464286\n",
      "3      3  0.250000\n",
      "4      4  0.166667\n",
      "5      5  0.000000\n",
      "6      8  0.000000\n"
     ]
    }
   ],
   "source": [
    "print (train[[\"SibSp\", \"Survived\"]].groupby(['SibSp'], as_index=False).mean())"
   ]
  },
  {
   "cell_type": "code",
   "execution_count": 17,
   "id": "0837db37",
   "metadata": {},
   "outputs": [
    {
     "name": "stdout",
     "output_type": "stream",
     "text": [
      "   Parch  Survived\n",
      "0      0  0.343658\n",
      "1      1  0.550847\n",
      "2      2  0.500000\n",
      "3      3  0.600000\n",
      "4      4  0.000000\n",
      "5      5  0.200000\n",
      "6      6  0.000000\n"
     ]
    }
   ],
   "source": [
    "print (train[[\"Parch\", \"Survived\"]].groupby(['Parch'], as_index=False).mean())"
   ]
  },
  {
   "cell_type": "code",
   "execution_count": 18,
   "id": "3f7b2601",
   "metadata": {},
   "outputs": [
    {
     "name": "stdout",
     "output_type": "stream",
     "text": [
      "  Embarked  Survived\n",
      "0        C  0.553571\n",
      "1        Q  0.389610\n",
      "2        S  0.336957\n"
     ]
    }
   ],
   "source": [
    "print (train[[\"Embarked\", \"Survived\"]].groupby(['Embarked'], as_index=False).mean())"
   ]
  },
  {
   "cell_type": "code",
   "execution_count": 19,
   "id": "fec92ec0",
   "metadata": {},
   "outputs": [
    {
     "data": {
      "text/plain": [
       "Survived    0.000000\n",
       "Pclass      0.000000\n",
       "Name        0.000000\n",
       "Sex         0.000000\n",
       "Age         0.198653\n",
       "SibSp       0.000000\n",
       "Parch       0.000000\n",
       "Ticket      0.000000\n",
       "Fare        0.000000\n",
       "Cabin       0.771044\n",
       "Embarked    0.002245\n",
       "dtype: float64"
      ]
     },
     "execution_count": 19,
     "metadata": {},
     "output_type": "execute_result"
    }
   ],
   "source": [
    "train.isna().mean()"
   ]
  },
  {
   "cell_type": "code",
   "execution_count": 20,
   "id": "eba72c03",
   "metadata": {},
   "outputs": [
    {
     "data": {
      "text/plain": [
       "347082      7\n",
       "CA. 2343    7\n",
       "1601        7\n",
       "3101295     6\n",
       "CA 2144     6\n",
       "           ..\n",
       "9234        1\n",
       "19988       1\n",
       "2693        1\n",
       "PC 17612    1\n",
       "370376      1\n",
       "Name: Ticket, Length: 681, dtype: int64"
      ]
     },
     "execution_count": 20,
     "metadata": {},
     "output_type": "execute_result"
    }
   ],
   "source": [
    "train['Ticket'].value_counts()"
   ]
  },
  {
   "cell_type": "code",
   "execution_count": 21,
   "id": "80cdc32e",
   "metadata": {},
   "outputs": [],
   "source": [
    "X_train = train.drop(['Survived'],axis=1)\n",
    "y_train = train['Survived']"
   ]
  },
  {
   "cell_type": "code",
   "execution_count": 22,
   "id": "818ae006",
   "metadata": {},
   "outputs": [
    {
     "data": {
      "text/plain": [
       "((891, 10), (891,))"
      ]
     },
     "execution_count": 22,
     "metadata": {},
     "output_type": "execute_result"
    }
   ],
   "source": [
    "X_train.shape, y_train.shape"
   ]
  },
  {
   "cell_type": "markdown",
   "id": "4d7cde5f",
   "metadata": {},
   "source": [
    "## Data preprocessing"
   ]
  },
  {
   "cell_type": "code",
   "execution_count": 23,
   "id": "f7c46403",
   "metadata": {},
   "outputs": [],
   "source": [
    "X_train.drop(['Ticket'], inplace=True, axis=1)"
   ]
  },
  {
   "cell_type": "markdown",
   "id": "84073ba1",
   "metadata": {},
   "source": [
    "### Impute 'Age' column with `99`"
   ]
  },
  {
   "cell_type": "code",
   "execution_count": 24,
   "id": "2a18906f",
   "metadata": {},
   "outputs": [
    {
     "data": {
      "image/png": "[encoded data removed]",
      "text/plain": [
       "<Figure size 576x288 with 2 Axes>"
      ]
     },
     "metadata": {
      "needs_background": "light"
     },
     "output_type": "display_data"
    }
   ],
   "source": [
    "X_train[['Age','Fare']].hist(bins=30, figsize=(8,4));"
   ]
  },
  {
   "cell_type": "code",
   "execution_count": 25,
   "id": "bd44a1f5",
   "metadata": {},
   "outputs": [
    {
     "data": {
      "text/plain": [
       "(16.336, 32.252]    346\n",
       "(32.252, 48.168]    188\n",
       "(0.34, 16.336]      100\n",
       "(48.168, 64.084]     69\n",
       "(64.084, 80.0]       11\n",
       "Name: Age, dtype: int64"
      ]
     },
     "execution_count": 25,
     "metadata": {},
     "output_type": "execute_result"
    }
   ],
   "source": [
    "pd.cut(X_train['Age'], 5).value_counts()"
   ]
  },
  {
   "cell_type": "code",
   "execution_count": 26,
   "id": "0df2d5ef",
   "metadata": {},
   "outputs": [],
   "source": [
    "X_train[\"Age\"] = X_train['Age'].fillna(99)"
   ]
  },
  {
   "cell_type": "markdown",
   "id": "1ee4fd4d",
   "metadata": {},
   "source": [
    "###  Discretize the Age Column"
   ]
  },
  {
   "cell_type": "code",
   "execution_count": 27,
   "id": "cfec4c83",
   "metadata": {},
   "outputs": [],
   "source": [
    "X_train.loc[X_train['Age'] <= 16, 'Age'] = 0\n",
    "X_train.loc[(X_train['Age'] > 16) & (X_train['Age'] <= 32), 'Age'] = 1\n",
    "X_train.loc[(X_train['Age'] > 32) & (X_train['Age'] <= 48), 'Age'] = 2\n",
    "X_train.loc[(X_train['Age'] > 48) & (X_train['Age'] <= 64), 'Age'] = 3\n",
    "X_train.loc[X_train['Age'] > 64, 'Age'] = 4"
   ]
  },
  {
   "cell_type": "code",
   "execution_count": 28,
   "id": "142bd29a",
   "metadata": {},
   "outputs": [
    {
     "name": "stdout",
     "output_type": "stream",
     "text": [
      "   Age  Survived\n",
      "0  0.0  0.550000\n",
      "1  1.0  0.369942\n",
      "2  2.0  0.404255\n",
      "3  3.0  0.434783\n",
      "4  4.0  0.281915\n"
     ]
    }
   ],
   "source": [
    "age_survival = pd.merge(X_train['Age'], y_train, left_index=True, right_index=True)\n",
    "print (age_survival[['Age', \"Survived\"]].groupby(['Age'], as_index=False).mean())"
   ]
  },
  {
   "cell_type": "code",
   "execution_count": 29,
   "id": "ff40fd14",
   "metadata": {},
   "outputs": [
    {
     "data": {
      "image/png": "[encoded data removed]",
      "text/plain": [
       "<Figure size 432x288 with 1 Axes>"
      ]
     },
     "metadata": {
      "needs_background": "light"
     },
     "output_type": "display_data"
    }
   ],
   "source": [
    "pd.crosstab(age_survival['Survived'],age_survival['Age']).plot(kind='bar');"
   ]
  },
  {
   "cell_type": "code",
   "execution_count": 30,
   "id": "32a10121",
   "metadata": {},
   "outputs": [],
   "source": [
    "## captures the first letter\n",
    "X_train['Cabin_cat'] = X_train['Cabin'].str[0]\n",
    "X_train.drop('Cabin', inplace=True, axis=1)\n",
    "    \n",
    "# #  captures numerical part\n",
    "# X_train['Cabin_num'] = X_train['Cabin'].str.extract('(\\d+)')"
   ]
  },
  {
   "cell_type": "markdown",
   "id": "6f3828b2",
   "metadata": {},
   "source": [
    "###  Dealing with missing values"
   ]
  },
  {
   "cell_type": "code",
   "execution_count": 31,
   "id": "c24cf2db",
   "metadata": {},
   "outputs": [],
   "source": [
    "num_impute = SimpleImputer(strategy='median')\n",
    "relative_impute = SimpleImputer(strategy='most_frequent')\n",
    "cat_impute = SimpleImputer(strategy='most_frequent')\n",
    "cabin_impute = SimpleImputer(strategy='constant',fill_value='missing')"
   ]
  },
  {
   "cell_type": "code",
   "execution_count": 32,
   "id": "0e0ce609",
   "metadata": {},
   "outputs": [],
   "source": [
    "X_train['Fare'] = num_impute.fit_transform(X_train[['Fare']])\n",
    "X_train[['SibSp','Parch']] = relative_impute.fit_transform(X_train[['SibSp','Parch']])\n",
    "X_train[['Embarked','Pclass']] = cat_impute.fit_transform(X_train[['Embarked','Pclass']])\n",
    "X_train['Cabin_cat'] = cabin_impute.fit_transform(X_train[['Cabin_cat']])"
   ]
  },
  {
   "cell_type": "markdown",
   "id": "41411165",
   "metadata": {},
   "source": [
    "## Create  **Title** column"
   ]
  },
  {
   "cell_type": "code",
   "execution_count": 33,
   "id": "20ab8ccf",
   "metadata": {},
   "outputs": [],
   "source": [
    "X_train['Title'] = X_train['Name'].str.extract(' ([A-Za-z]+)\\.', expand=False)\n",
    "X_train.drop('Name', inplace=True,axis=1)"
   ]
  },
  {
   "cell_type": "markdown",
   "id": "fbeef299",
   "metadata": {},
   "source": [
    "### Create  **Child_women**"
   ]
  },
  {
   "cell_type": "code",
   "execution_count": 34,
   "id": "c898d3b9",
   "metadata": {},
   "outputs": [],
   "source": [
    "X_train['Child_or_woman'] = np.where(((X_train['Age'] == 0) | (X_train['Sex'] == 'female')) ,1,0)"
   ]
  },
  {
   "cell_type": "code",
   "execution_count": 35,
   "id": "0c00abe5",
   "metadata": {},
   "outputs": [
    {
     "name": "stdout",
     "output_type": "stream",
     "text": [
      "   Child_or_woman  Survived\n",
      "0               0  0.165399\n",
      "1               1  0.698630\n"
     ]
    }
   ],
   "source": [
    "child_women = pd.merge(X_train['Child_or_woman'], y_train, left_index=True, right_index=True)\n",
    "print (child_women[['Child_or_woman', \"Survived\"]].groupby(['Child_or_woman'], as_index=False).mean())"
   ]
  },
  {
   "cell_type": "code",
   "execution_count": 36,
   "id": "18f8cf49",
   "metadata": {},
   "outputs": [
    {
     "data": {
      "image/png": "[encoded data removed]",
      "text/plain": [
       "<Figure size 432x288 with 1 Axes>"
      ]
     },
     "metadata": {
      "needs_background": "light"
     },
     "output_type": "display_data"
    }
   ],
   "source": [
    "pd.crosstab(child_women['Survived'],child_women['Child_or_woman']).plot(kind='bar');"
   ]
  },
  {
   "cell_type": "markdown",
   "id": "4097523a",
   "metadata": {},
   "source": [
    "### Create **Relative** column"
   ]
  },
  {
   "cell_type": "code",
   "execution_count": 37,
   "id": "c815ddf8",
   "metadata": {},
   "outputs": [],
   "source": [
    "X_train['Relative'] = X_train['SibSp']+ X_train['Parch']\n",
    "X_train.drop(['SibSp','Parch'], inplace=True,axis=1)"
   ]
  },
  {
   "cell_type": "code",
   "execution_count": 38,
   "id": "16f89db6",
   "metadata": {},
   "outputs": [
    {
     "data": {
      "text/html": [
       "<div>\n",
       "<style scoped>\n",
       "    .dataframe tbody tr th:only-of-type {\n",
       "        vertical-align: middle;\n",
       "    }\n",
       "\n",
       "    .dataframe tbody tr th {\n",
       "        vertical-align: top;\n",
       "    }\n",
       "\n",
       "    .dataframe thead th {\n",
       "        text-align: right;\n",
       "    }\n",
       "</style>\n",
       "<table border=\"1\" class=\"dataframe\">\n",
       "  <thead>\n",
       "    <tr style=\"text-align: right;\">\n",
       "      <th></th>\n",
       "      <th>Pclass</th>\n",
       "      <th>Sex</th>\n",
       "      <th>Age</th>\n",
       "      <th>Fare</th>\n",
       "      <th>Embarked</th>\n",
       "      <th>Cabin_cat</th>\n",
       "      <th>Title</th>\n",
       "      <th>Child_or_woman</th>\n",
       "      <th>Relative</th>\n",
       "    </tr>\n",
       "    <tr>\n",
       "      <th>PassengerId</th>\n",
       "      <th></th>\n",
       "      <th></th>\n",
       "      <th></th>\n",
       "      <th></th>\n",
       "      <th></th>\n",
       "      <th></th>\n",
       "      <th></th>\n",
       "      <th></th>\n",
       "      <th></th>\n",
       "    </tr>\n",
       "  </thead>\n",
       "  <tbody>\n",
       "    <tr>\n",
       "      <th>1</th>\n",
       "      <td>3</td>\n",
       "      <td>male</td>\n",
       "      <td>1.0</td>\n",
       "      <td>7.2500</td>\n",
       "      <td>S</td>\n",
       "      <td>missing</td>\n",
       "      <td>Mr</td>\n",
       "      <td>0</td>\n",
       "      <td>1</td>\n",
       "    </tr>\n",
       "    <tr>\n",
       "      <th>2</th>\n",
       "      <td>1</td>\n",
       "      <td>female</td>\n",
       "      <td>2.0</td>\n",
       "      <td>71.2833</td>\n",
       "      <td>C</td>\n",
       "      <td>C</td>\n",
       "      <td>Mrs</td>\n",
       "      <td>1</td>\n",
       "      <td>1</td>\n",
       "    </tr>\n",
       "    <tr>\n",
       "      <th>3</th>\n",
       "      <td>3</td>\n",
       "      <td>female</td>\n",
       "      <td>1.0</td>\n",
       "      <td>7.9250</td>\n",
       "      <td>S</td>\n",
       "      <td>missing</td>\n",
       "      <td>Miss</td>\n",
       "      <td>1</td>\n",
       "      <td>0</td>\n",
       "    </tr>\n",
       "    <tr>\n",
       "      <th>4</th>\n",
       "      <td>1</td>\n",
       "      <td>female</td>\n",
       "      <td>2.0</td>\n",
       "      <td>53.1000</td>\n",
       "      <td>S</td>\n",
       "      <td>C</td>\n",
       "      <td>Mrs</td>\n",
       "      <td>1</td>\n",
       "      <td>1</td>\n",
       "    </tr>\n",
       "    <tr>\n",
       "      <th>5</th>\n",
       "      <td>3</td>\n",
       "      <td>male</td>\n",
       "      <td>2.0</td>\n",
       "      <td>8.0500</td>\n",
       "      <td>S</td>\n",
       "      <td>missing</td>\n",
       "      <td>Mr</td>\n",
       "      <td>0</td>\n",
       "      <td>0</td>\n",
       "    </tr>\n",
       "  </tbody>\n",
       "</table>\n",
       "</div>"
      ],
      "text/plain": [
       "            Pclass     Sex  Age     Fare Embarked Cabin_cat Title  \\\n",
       "PassengerId                                                         \n",
       "1                3    male  1.0   7.2500        S   missing    Mr   \n",
       "2                1  female  2.0  71.2833        C         C   Mrs   \n",
       "3                3  female  1.0   7.9250        S   missing  Miss   \n",
       "4                1  female  2.0  53.1000        S         C   Mrs   \n",
       "5                3    male  2.0   8.0500        S   missing    Mr   \n",
       "\n",
       "             Child_or_woman  Relative  \n",
       "PassengerId                            \n",
       "1                         0         1  \n",
       "2                         1         1  \n",
       "3                         1         0  \n",
       "4                         1         1  \n",
       "5                         0         0  "
      ]
     },
     "execution_count": 38,
     "metadata": {},
     "output_type": "execute_result"
    }
   ],
   "source": [
    "X_train.head()"
   ]
  },
  {
   "cell_type": "code",
   "execution_count": 39,
   "id": "085269e8",
   "metadata": {},
   "outputs": [
    {
     "name": "stdout",
     "output_type": "stream",
     "text": [
      "   Relative  Survived\n",
      "0         0  0.303538\n",
      "1         1  0.552795\n",
      "2         2  0.578431\n",
      "3         3  0.724138\n",
      "4         4  0.200000\n",
      "5         5  0.136364\n",
      "6         6  0.333333\n",
      "7         7  0.000000\n",
      "8        10  0.000000\n"
     ]
    }
   ],
   "source": [
    "relative_survival = pd.merge(X_train['Relative'], y_train, left_index=True, right_index=True)\n",
    "print (relative_survival[['Relative', \"Survived\"]].groupby(['Relative'], as_index=False).mean())"
   ]
  },
  {
   "cell_type": "markdown",
   "id": "92477424",
   "metadata": {},
   "source": [
    "## Create **Relative_less_than_four** column"
   ]
  },
  {
   "cell_type": "code",
   "execution_count": 40,
   "id": "96136989",
   "metadata": {},
   "outputs": [],
   "source": [
    "X_train['Relative_less_than_four'] = np.where(((X_train['Relative'] > 0) & (X_train['Relative'] < 4)) ,1,0)"
   ]
  },
  {
   "cell_type": "code",
   "execution_count": 41,
   "id": "c277ce9c",
   "metadata": {},
   "outputs": [
    {
     "name": "stdout",
     "output_type": "stream",
     "text": [
      "   Relative_less_than_four  Survived\n",
      "0                        0  0.288815\n",
      "1                        1  0.578767\n"
     ]
    }
   ],
   "source": [
    "relative_survival_four = pd.merge(X_train['Relative_less_than_four'], y_train, left_index=True, right_index=True)\n",
    "print (relative_survival_four[['Relative_less_than_four', \"Survived\"]].groupby(['Relative_less_than_four'], as_index=False).mean())"
   ]
  },
  {
   "cell_type": "code",
   "execution_count": 42,
   "id": "a05fdd72",
   "metadata": {},
   "outputs": [
    {
     "data": {
      "image/png": "[encoded data removed]",
      "text/plain": [
       "<Figure size 432x288 with 1 Axes>"
      ]
     },
     "metadata": {
      "needs_background": "light"
     },
     "output_type": "display_data"
    }
   ],
   "source": [
    "pd.crosstab(relative_survival_four['Survived'],relative_survival_four['Relative_less_than_four']).plot(kind='bar');"
   ]
  },
  {
   "cell_type": "markdown",
   "id": "818aecd9",
   "metadata": {},
   "source": [
    "### Rare Label Encoding"
   ]
  },
  {
   "cell_type": "code",
   "execution_count": 43,
   "id": "474a78de",
   "metadata": {},
   "outputs": [],
   "source": [
    "rare_encoder = RareLabelEncoder(tol=0.05, n_categories=4, variables=['Title','Cabin_cat'])\n",
    "rare_encoder.fit(X_train.fillna('Missing'))\n",
    "X_train = rare_encoder.transform(X_train.fillna('Missing'))"
   ]
  },
  {
   "cell_type": "markdown",
   "id": "3060234b",
   "metadata": {},
   "source": [
    "### Create Survival Chance column"
   ]
  },
  {
   "cell_type": "code",
   "execution_count": 44,
   "id": "640cc7b5",
   "metadata": {},
   "outputs": [],
   "source": [
    "X_train['Survaival_chance'] = np.where(((X_train['Age'] == 0) | (X_train['Pclass'] == 1) | (X_train['Child_or_woman']==1) | (X_train['Title']=='Master') | (X_train['Title']=='Miss') | (X_train['Title']=='Mrs') | (X_train['Embarked']=='C') | (X_train['Relative_less_than_four']==1)),1,0)"
   ]
  },
  {
   "cell_type": "code",
   "execution_count": 45,
   "id": "e8fa672f",
   "metadata": {},
   "outputs": [
    {
     "data": {
      "text/plain": [
       "1    592\n",
       "0    299\n",
       "Name: Survaival_chance, dtype: int64"
      ]
     },
     "execution_count": 45,
     "metadata": {},
     "output_type": "execute_result"
    }
   ],
   "source": [
    "X_train['Survaival_chance'].value_counts()"
   ]
  },
  {
   "cell_type": "code",
   "execution_count": 46,
   "id": "066c9fa6",
   "metadata": {},
   "outputs": [
    {
     "name": "stdout",
     "output_type": "stream",
     "text": [
      "   Survaival_chance  Survived\n",
      "0                 0  0.107023\n",
      "1                 1  0.523649\n"
     ]
    }
   ],
   "source": [
    "survaival_chance = pd.merge(X_train['Survaival_chance'], y_train, left_index=True, right_index=True)\n",
    "print (survaival_chance[['Survaival_chance', \"Survived\"]].groupby(['Survaival_chance'], \n",
    "                                                                              as_index=False).mean())"
   ]
  },
  {
   "cell_type": "markdown",
   "id": "af093853",
   "metadata": {},
   "source": [
    "### OneHotEncoder"
   ]
  },
  {
   "cell_type": "code",
   "execution_count": 47,
   "id": "dc6cd11e",
   "metadata": {},
   "outputs": [
    {
     "data": {
      "text/plain": [
       "Index(['Pclass', 'Sex', 'Age', 'Fare', 'Embarked', 'Cabin_cat', 'Title',\n",
       "       'Child_or_woman', 'Relative', 'Relative_less_than_four',\n",
       "       'Survaival_chance'],\n",
       "      dtype='object')"
      ]
     },
     "execution_count": 47,
     "metadata": {},
     "output_type": "execute_result"
    }
   ],
   "source": [
    "X_train.columns"
   ]
  },
  {
   "cell_type": "code",
   "execution_count": 48,
   "id": "a033dc29",
   "metadata": {},
   "outputs": [],
   "source": [
    "cat_columns = ['Sex','Embarked','Title','Cabin_cat']"
   ]
  },
  {
   "cell_type": "code",
   "execution_count": 49,
   "id": "a6d5e1eb",
   "metadata": {},
   "outputs": [],
   "source": [
    "xindex = X_train.index"
   ]
  },
  {
   "cell_type": "code",
   "execution_count": 50,
   "id": "65a7991e",
   "metadata": {},
   "outputs": [],
   "source": [
    "encoder = OneHotEncoder(categories='auto',sparse=False, handle_unknown='error')"
   ]
  },
  {
   "cell_type": "code",
   "execution_count": 51,
   "id": "9e29969d",
   "metadata": {},
   "outputs": [],
   "source": [
    "one_hot = encoder.fit_transform(X_train[['Sex','Embarked','Title','Cabin_cat']])\n",
    "one_hot = pd.DataFrame(one_hot, index=xindex)\n",
    "one_hot.columns = encoder.get_feature_names_out()"
   ]
  },
  {
   "cell_type": "code",
   "execution_count": 52,
   "id": "722b313b",
   "metadata": {},
   "outputs": [],
   "source": [
    "X_train = X_train.drop(['Sex','Embarked','Title','Cabin_cat'], axis=1)"
   ]
  },
  {
   "cell_type": "code",
   "execution_count": 53,
   "id": "f9ef227b",
   "metadata": {},
   "outputs": [],
   "source": [
    "X_train = pd.merge(X_train, one_hot, left_index=True, right_index=True)"
   ]
  },
  {
   "cell_type": "markdown",
   "id": "14b33fbe",
   "metadata": {},
   "source": [
    "### Scalling"
   ]
  },
  {
   "cell_type": "code",
   "execution_count": 54,
   "id": "77bdf5b0",
   "metadata": {},
   "outputs": [],
   "source": [
    "scaler = StandardScaler()\n",
    "X_train = scaler.fit_transform(X_train)\n",
    "X_train = pd.DataFrame(X_train, index=xindex)\n",
    "X_train.columns = scaler.get_feature_names_out()"
   ]
  },
  {
   "cell_type": "code",
   "execution_count": 55,
   "id": "d20ecd0b",
   "metadata": {},
   "outputs": [
    {
     "data": {
      "text/html": [
       "<div>\n",
       "<style scoped>\n",
       "    .dataframe tbody tr th:only-of-type {\n",
       "        vertical-align: middle;\n",
       "    }\n",
       "\n",
       "    .dataframe tbody tr th {\n",
       "        vertical-align: top;\n",
       "    }\n",
       "\n",
       "    .dataframe thead th {\n",
       "        text-align: right;\n",
       "    }\n",
       "</style>\n",
       "<table border=\"1\" class=\"dataframe\">\n",
       "  <thead>\n",
       "    <tr style=\"text-align: right;\">\n",
       "      <th></th>\n",
       "      <th>Pclass</th>\n",
       "      <th>Age</th>\n",
       "      <th>Fare</th>\n",
       "      <th>Child_or_woman</th>\n",
       "      <th>Relative</th>\n",
       "      <th>Relative_less_than_four</th>\n",
       "      <th>Survaival_chance</th>\n",
       "      <th>Sex_female</th>\n",
       "      <th>Sex_male</th>\n",
       "      <th>Embarked_C</th>\n",
       "      <th>Embarked_Q</th>\n",
       "      <th>Embarked_S</th>\n",
       "      <th>Title_Miss</th>\n",
       "      <th>Title_Mr</th>\n",
       "      <th>Title_Mrs</th>\n",
       "      <th>Title_Rare</th>\n",
       "      <th>Cabin_cat_B</th>\n",
       "      <th>Cabin_cat_C</th>\n",
       "      <th>Cabin_cat_Rare</th>\n",
       "      <th>Cabin_cat_missing</th>\n",
       "    </tr>\n",
       "    <tr>\n",
       "      <th>PassengerId</th>\n",
       "      <th></th>\n",
       "      <th></th>\n",
       "      <th></th>\n",
       "      <th></th>\n",
       "      <th></th>\n",
       "      <th></th>\n",
       "      <th></th>\n",
       "      <th></th>\n",
       "      <th></th>\n",
       "      <th></th>\n",
       "      <th></th>\n",
       "      <th></th>\n",
       "      <th></th>\n",
       "      <th></th>\n",
       "      <th></th>\n",
       "      <th></th>\n",
       "      <th></th>\n",
       "      <th></th>\n",
       "      <th></th>\n",
       "      <th></th>\n",
       "    </tr>\n",
       "  </thead>\n",
       "  <tbody>\n",
       "    <tr>\n",
       "      <th>1</th>\n",
       "      <td>0.827377</td>\n",
       "      <td>-0.671036</td>\n",
       "      <td>-0.502445</td>\n",
       "      <td>-0.833016</td>\n",
       "      <td>0.059160</td>\n",
       "      <td>1.432260</td>\n",
       "      <td>0.710681</td>\n",
       "      <td>-0.737695</td>\n",
       "      <td>0.737695</td>\n",
       "      <td>-0.482043</td>\n",
       "      <td>-0.307562</td>\n",
       "      <td>0.615838</td>\n",
       "      <td>-0.506655</td>\n",
       "      <td>0.850532</td>\n",
       "      <td>-0.403962</td>\n",
       "      <td>-0.28515</td>\n",
       "      <td>-0.235981</td>\n",
       "      <td>-0.266296</td>\n",
       "      <td>-0.351541</td>\n",
       "      <td>0.544925</td>\n",
       "    </tr>\n",
       "    <tr>\n",
       "      <th>2</th>\n",
       "      <td>-1.566107</td>\n",
       "      <td>0.085791</td>\n",
       "      <td>0.786845</td>\n",
       "      <td>1.200457</td>\n",
       "      <td>0.059160</td>\n",
       "      <td>1.432260</td>\n",
       "      <td>0.710681</td>\n",
       "      <td>1.355574</td>\n",
       "      <td>-1.355574</td>\n",
       "      <td>2.074505</td>\n",
       "      <td>-0.307562</td>\n",
       "      <td>-1.623803</td>\n",
       "      <td>-0.506655</td>\n",
       "      <td>-1.175735</td>\n",
       "      <td>2.475480</td>\n",
       "      <td>-0.28515</td>\n",
       "      <td>-0.235981</td>\n",
       "      <td>3.755222</td>\n",
       "      <td>-0.351541</td>\n",
       "      <td>-1.835115</td>\n",
       "    </tr>\n",
       "    <tr>\n",
       "      <th>3</th>\n",
       "      <td>0.827377</td>\n",
       "      <td>-0.671036</td>\n",
       "      <td>-0.488854</td>\n",
       "      <td>1.200457</td>\n",
       "      <td>-0.560975</td>\n",
       "      <td>-0.698197</td>\n",
       "      <td>0.710681</td>\n",
       "      <td>1.355574</td>\n",
       "      <td>-1.355574</td>\n",
       "      <td>-0.482043</td>\n",
       "      <td>-0.307562</td>\n",
       "      <td>0.615838</td>\n",
       "      <td>1.973729</td>\n",
       "      <td>-1.175735</td>\n",
       "      <td>-0.403962</td>\n",
       "      <td>-0.28515</td>\n",
       "      <td>-0.235981</td>\n",
       "      <td>-0.266296</td>\n",
       "      <td>-0.351541</td>\n",
       "      <td>0.544925</td>\n",
       "    </tr>\n",
       "    <tr>\n",
       "      <th>4</th>\n",
       "      <td>-1.566107</td>\n",
       "      <td>0.085791</td>\n",
       "      <td>0.420730</td>\n",
       "      <td>1.200457</td>\n",
       "      <td>0.059160</td>\n",
       "      <td>1.432260</td>\n",
       "      <td>0.710681</td>\n",
       "      <td>1.355574</td>\n",
       "      <td>-1.355574</td>\n",
       "      <td>-0.482043</td>\n",
       "      <td>-0.307562</td>\n",
       "      <td>0.615838</td>\n",
       "      <td>-0.506655</td>\n",
       "      <td>-1.175735</td>\n",
       "      <td>2.475480</td>\n",
       "      <td>-0.28515</td>\n",
       "      <td>-0.235981</td>\n",
       "      <td>3.755222</td>\n",
       "      <td>-0.351541</td>\n",
       "      <td>-1.835115</td>\n",
       "    </tr>\n",
       "    <tr>\n",
       "      <th>5</th>\n",
       "      <td>0.827377</td>\n",
       "      <td>0.085791</td>\n",
       "      <td>-0.486337</td>\n",
       "      <td>-0.833016</td>\n",
       "      <td>-0.560975</td>\n",
       "      <td>-0.698197</td>\n",
       "      <td>-1.407101</td>\n",
       "      <td>-0.737695</td>\n",
       "      <td>0.737695</td>\n",
       "      <td>-0.482043</td>\n",
       "      <td>-0.307562</td>\n",
       "      <td>0.615838</td>\n",
       "      <td>-0.506655</td>\n",
       "      <td>0.850532</td>\n",
       "      <td>-0.403962</td>\n",
       "      <td>-0.28515</td>\n",
       "      <td>-0.235981</td>\n",
       "      <td>-0.266296</td>\n",
       "      <td>-0.351541</td>\n",
       "      <td>0.544925</td>\n",
       "    </tr>\n",
       "  </tbody>\n",
       "</table>\n",
       "</div>"
      ],
      "text/plain": [
       "               Pclass       Age      Fare  Child_or_woman  Relative  \\\n",
       "PassengerId                                                           \n",
       "1            0.827377 -0.671036 -0.502445       -0.833016  0.059160   \n",
       "2           -1.566107  0.085791  0.786845        1.200457  0.059160   \n",
       "3            0.827377 -0.671036 -0.488854        1.200457 -0.560975   \n",
       "4           -1.566107  0.085791  0.420730        1.200457  0.059160   \n",
       "5            0.827377  0.085791 -0.486337       -0.833016 -0.560975   \n",
       "\n",
       "             Relative_less_than_four  Survaival_chance  Sex_female  Sex_male  \\\n",
       "PassengerId                                                                    \n",
       "1                           1.432260          0.710681   -0.737695  0.737695   \n",
       "2                           1.432260          0.710681    1.355574 -1.355574   \n",
       "3                          -0.698197          0.710681    1.355574 -1.355574   \n",
       "4                           1.432260          0.710681    1.355574 -1.355574   \n",
       "5                          -0.698197         -1.407101   -0.737695  0.737695   \n",
       "\n",
       "             Embarked_C  Embarked_Q  Embarked_S  Title_Miss  Title_Mr  \\\n",
       "PassengerId                                                             \n",
       "1             -0.482043   -0.307562    0.615838   -0.506655  0.850532   \n",
       "2              2.074505   -0.307562   -1.623803   -0.506655 -1.175735   \n",
       "3             -0.482043   -0.307562    0.615838    1.973729 -1.175735   \n",
       "4             -0.482043   -0.307562    0.615838   -0.506655 -1.175735   \n",
       "5             -0.482043   -0.307562    0.615838   -0.506655  0.850532   \n",
       "\n",
       "             Title_Mrs  Title_Rare  Cabin_cat_B  Cabin_cat_C  Cabin_cat_Rare  \\\n",
       "PassengerId                                                                    \n",
       "1            -0.403962    -0.28515    -0.235981    -0.266296       -0.351541   \n",
       "2             2.475480    -0.28515    -0.235981     3.755222       -0.351541   \n",
       "3            -0.403962    -0.28515    -0.235981    -0.266296       -0.351541   \n",
       "4             2.475480    -0.28515    -0.235981     3.755222       -0.351541   \n",
       "5            -0.403962    -0.28515    -0.235981    -0.266296       -0.351541   \n",
       "\n",
       "             Cabin_cat_missing  \n",
       "PassengerId                     \n",
       "1                     0.544925  \n",
       "2                    -1.835115  \n",
       "3                     0.544925  \n",
       "4                    -1.835115  \n",
       "5                     0.544925  "
      ]
     },
     "execution_count": 55,
     "metadata": {},
     "output_type": "execute_result"
    }
   ],
   "source": [
    "X_train.head()"
   ]
  },
  {
   "cell_type": "markdown",
   "id": "4b1d98f4",
   "metadata": {},
   "source": [
    "## Feature Selection"
   ]
  },
  {
   "cell_type": "code",
   "execution_count": 56,
   "id": "45052932",
   "metadata": {},
   "outputs": [],
   "source": [
    "X_data = X_train.copy()"
   ]
  },
  {
   "cell_type": "code",
   "execution_count": 57,
   "id": "c02cf863",
   "metadata": {},
   "outputs": [
    {
     "data": {
      "text/plain": [
       "0"
      ]
     },
     "execution_count": 57,
     "metadata": {},
     "output_type": "execute_result"
    }
   ],
   "source": [
    "constant_features = [feature for feature in X_data.columns if X_data[feature].nunique()==1]\n",
    "len(constant_features)"
   ]
  },
  {
   "cell_type": "code",
   "execution_count": 58,
   "id": "1616048c",
   "metadata": {},
   "outputs": [
    {
     "data": {
      "text/plain": [
       "0"
      ]
     },
     "execution_count": 58,
     "metadata": {},
     "output_type": "execute_result"
    }
   ],
   "source": [
    "quasi_constant_features = []\n",
    "\n",
    "for feature in X_data.columns:\n",
    "    predominant = X_data[feature].value_counts(normalize=True).sort_values(ascending=False).values[0]\n",
    "    if predominant > 0.99:\n",
    "        quasi_constant_features.append(feature)\n",
    "len(quasi_constant_features)"
   ]
  },
  {
   "cell_type": "code",
   "execution_count": 59,
   "id": "306d823c",
   "metadata": {},
   "outputs": [
    {
     "data": {
      "text/plain": [
       "[]"
      ]
     },
     "execution_count": 59,
     "metadata": {},
     "output_type": "execute_result"
    }
   ],
   "source": [
    "quasi_constant_features"
   ]
  },
  {
   "cell_type": "code",
   "execution_count": 60,
   "id": "cde6add7",
   "metadata": {},
   "outputs": [
    {
     "name": "stdout",
     "output_type": "stream",
     "text": [
      "0\n",
      "10\n"
     ]
    },
    {
     "data": {
      "text/plain": [
       "0"
      ]
     },
     "execution_count": 60,
     "metadata": {},
     "output_type": "execute_result"
    }
   ],
   "source": [
    "duplicated_feat = []\n",
    "\n",
    "for i in range(0, len(X_data.columns)):\n",
    "    if i % 10 == 0: \n",
    "        print(i)\n",
    "\n",
    "    col_1 = X_data.columns[i]\n",
    "\n",
    "    for col_2 in X_data.columns[i + 1:]:\n",
    "        if X_data[col_1].equals(X_data[col_2]):\n",
    "            duplicated_feat.append(col_2)\n",
    "            \n",
    "len(duplicated_feat)"
   ]
  },
  {
   "cell_type": "code",
   "execution_count": 61,
   "id": "16282042",
   "metadata": {},
   "outputs": [],
   "source": [
    "def correlation(df, threshold):\n",
    "    col_corr = set()\n",
    "    \n",
    "    corr_matrix = df.corr()\n",
    "    \n",
    "    for i in range(len(corr_matrix.columns)):\n",
    "        \n",
    "        for j in range(i):\n",
    "            if abs(corr_matrix.iloc[i, j]) > threshold:\n",
    "                colname = corr_matrix.columns[i]\n",
    "                col_corr.add(colname)\n",
    "    return col_corr"
   ]
  },
  {
   "cell_type": "code",
   "execution_count": 62,
   "id": "e50a538b",
   "metadata": {},
   "outputs": [
    {
     "name": "stdout",
     "output_type": "stream",
     "text": [
      "correlated features: 3\n"
     ]
    }
   ],
   "source": [
    "corr_features = correlation(X_data, 0.8)\n",
    "print(f'correlated features: {len(set(corr_features))}')"
   ]
  },
  {
   "cell_type": "code",
   "execution_count": 63,
   "id": "5837330f",
   "metadata": {},
   "outputs": [
    {
     "data": {
      "text/plain": [
       "{'Sex_female', 'Sex_male', 'Title_Mr'}"
      ]
     },
     "execution_count": 63,
     "metadata": {},
     "output_type": "execute_result"
    }
   ],
   "source": [
    "set(corr_features)"
   ]
  },
  {
   "cell_type": "code",
   "execution_count": 64,
   "id": "5f87bd08",
   "metadata": {},
   "outputs": [
    {
     "data": {
      "text/plain": [
       "array([0.08237266, 0.00179456, 0.14013291, 0.14995674, 0.03719296,\n",
       "       0.03102446, 0.05617951, 0.17012034, 0.15766381, 0.06206418,\n",
       "       0.00078893, 0.        , 0.07781578, 0.11874972, 0.08212418,\n",
       "       0.        , 0.00669617, 0.00969413, 0.01005758, 0.04059749])"
      ]
     },
     "execution_count": 64,
     "metadata": {},
     "output_type": "execute_result"
    }
   ],
   "source": [
    "mi = mutual_info_regression(X_train, y_train)\n",
    "mi"
   ]
  },
  {
   "cell_type": "code",
   "execution_count": 65,
   "id": "30adcdb8",
   "metadata": {},
   "outputs": [
    {
     "data": {
      "text/plain": [
       "Text(0, 0.5, 'Mutual Information')"
      ]
     },
     "execution_count": 65,
     "metadata": {},
     "output_type": "execute_result"
    },
    {
     "data": {
      "image/png": "[encoded data removed]",
      "text/plain": [
       "<Figure size 1440x432 with 1 Axes>"
      ]
     },
     "metadata": {
      "needs_background": "light"
     },
     "output_type": "display_data"
    }
   ],
   "source": [
    "mi = pd.Series(mi)\n",
    "mi.index = X_train.columns\n",
    "mi.sort_values(ascending=False).plot.bar(figsize=(20,6))\n",
    "plt.ylabel('Mutual Information')"
   ]
  },
  {
   "cell_type": "code",
   "execution_count": 66,
   "id": "d7e6aa0a",
   "metadata": {},
   "outputs": [],
   "source": [
    "sel = SelectKBest(mutual_info_regression, k=18).fit(X_train, y_train)"
   ]
  },
  {
   "cell_type": "code",
   "execution_count": 67,
   "id": "fc04c7ef",
   "metadata": {},
   "outputs": [],
   "source": [
    "selected_columns = X_train.columns[sel.get_support()]"
   ]
  },
  {
   "cell_type": "code",
   "execution_count": 68,
   "id": "4a042ec7",
   "metadata": {},
   "outputs": [
    {
     "data": {
      "text/plain": [
       "Index(['Pclass', 'Age', 'Fare', 'Child_or_woman', 'Relative',\n",
       "       'Relative_less_than_four', 'Survaival_chance', 'Sex_female', 'Sex_male',\n",
       "       'Embarked_C', 'Title_Miss', 'Title_Mr', 'Title_Mrs', 'Title_Rare',\n",
       "       'Cabin_cat_B', 'Cabin_cat_C', 'Cabin_cat_Rare', 'Cabin_cat_missing'],\n",
       "      dtype='object')"
      ]
     },
     "execution_count": 68,
     "metadata": {},
     "output_type": "execute_result"
    }
   ],
   "source": [
    "selected_columns"
   ]
  },
  {
   "cell_type": "code",
   "execution_count": 69,
   "id": "28f9905d",
   "metadata": {},
   "outputs": [],
   "source": [
    "X_train = X_train[selected_columns]"
   ]
  },
  {
   "cell_type": "code",
   "execution_count": 70,
   "id": "09b0240f",
   "metadata": {},
   "outputs": [
    {
     "data": {
      "text/html": [
       "<div>\n",
       "<style scoped>\n",
       "    .dataframe tbody tr th:only-of-type {\n",
       "        vertical-align: middle;\n",
       "    }\n",
       "\n",
       "    .dataframe tbody tr th {\n",
       "        vertical-align: top;\n",
       "    }\n",
       "\n",
       "    .dataframe thead th {\n",
       "        text-align: right;\n",
       "    }\n",
       "</style>\n",
       "<table border=\"1\" class=\"dataframe\">\n",
       "  <thead>\n",
       "    <tr style=\"text-align: right;\">\n",
       "      <th></th>\n",
       "      <th>Pclass</th>\n",
       "      <th>Age</th>\n",
       "      <th>Fare</th>\n",
       "      <th>Child_or_woman</th>\n",
       "      <th>Relative</th>\n",
       "      <th>Relative_less_than_four</th>\n",
       "      <th>Survaival_chance</th>\n",
       "      <th>Sex_female</th>\n",
       "      <th>Sex_male</th>\n",
       "      <th>Embarked_C</th>\n",
       "      <th>Title_Miss</th>\n",
       "      <th>Title_Mr</th>\n",
       "      <th>Title_Mrs</th>\n",
       "      <th>Title_Rare</th>\n",
       "      <th>Cabin_cat_B</th>\n",
       "      <th>Cabin_cat_C</th>\n",
       "      <th>Cabin_cat_Rare</th>\n",
       "      <th>Cabin_cat_missing</th>\n",
       "    </tr>\n",
       "    <tr>\n",
       "      <th>PassengerId</th>\n",
       "      <th></th>\n",
       "      <th></th>\n",
       "      <th></th>\n",
       "      <th></th>\n",
       "      <th></th>\n",
       "      <th></th>\n",
       "      <th></th>\n",
       "      <th></th>\n",
       "      <th></th>\n",
       "      <th></th>\n",
       "      <th></th>\n",
       "      <th></th>\n",
       "      <th></th>\n",
       "      <th></th>\n",
       "      <th></th>\n",
       "      <th></th>\n",
       "      <th></th>\n",
       "      <th></th>\n",
       "    </tr>\n",
       "  </thead>\n",
       "  <tbody>\n",
       "    <tr>\n",
       "      <th>1</th>\n",
       "      <td>0.827377</td>\n",
       "      <td>-0.671036</td>\n",
       "      <td>-0.502445</td>\n",
       "      <td>-0.833016</td>\n",
       "      <td>0.059160</td>\n",
       "      <td>1.432260</td>\n",
       "      <td>0.710681</td>\n",
       "      <td>-0.737695</td>\n",
       "      <td>0.737695</td>\n",
       "      <td>-0.482043</td>\n",
       "      <td>-0.506655</td>\n",
       "      <td>0.850532</td>\n",
       "      <td>-0.403962</td>\n",
       "      <td>-0.28515</td>\n",
       "      <td>-0.235981</td>\n",
       "      <td>-0.266296</td>\n",
       "      <td>-0.351541</td>\n",
       "      <td>0.544925</td>\n",
       "    </tr>\n",
       "    <tr>\n",
       "      <th>2</th>\n",
       "      <td>-1.566107</td>\n",
       "      <td>0.085791</td>\n",
       "      <td>0.786845</td>\n",
       "      <td>1.200457</td>\n",
       "      <td>0.059160</td>\n",
       "      <td>1.432260</td>\n",
       "      <td>0.710681</td>\n",
       "      <td>1.355574</td>\n",
       "      <td>-1.355574</td>\n",
       "      <td>2.074505</td>\n",
       "      <td>-0.506655</td>\n",
       "      <td>-1.175735</td>\n",
       "      <td>2.475480</td>\n",
       "      <td>-0.28515</td>\n",
       "      <td>-0.235981</td>\n",
       "      <td>3.755222</td>\n",
       "      <td>-0.351541</td>\n",
       "      <td>-1.835115</td>\n",
       "    </tr>\n",
       "    <tr>\n",
       "      <th>3</th>\n",
       "      <td>0.827377</td>\n",
       "      <td>-0.671036</td>\n",
       "      <td>-0.488854</td>\n",
       "      <td>1.200457</td>\n",
       "      <td>-0.560975</td>\n",
       "      <td>-0.698197</td>\n",
       "      <td>0.710681</td>\n",
       "      <td>1.355574</td>\n",
       "      <td>-1.355574</td>\n",
       "      <td>-0.482043</td>\n",
       "      <td>1.973729</td>\n",
       "      <td>-1.175735</td>\n",
       "      <td>-0.403962</td>\n",
       "      <td>-0.28515</td>\n",
       "      <td>-0.235981</td>\n",
       "      <td>-0.266296</td>\n",
       "      <td>-0.351541</td>\n",
       "      <td>0.544925</td>\n",
       "    </tr>\n",
       "    <tr>\n",
       "      <th>4</th>\n",
       "      <td>-1.566107</td>\n",
       "      <td>0.085791</td>\n",
       "      <td>0.420730</td>\n",
       "      <td>1.200457</td>\n",
       "      <td>0.059160</td>\n",
       "      <td>1.432260</td>\n",
       "      <td>0.710681</td>\n",
       "      <td>1.355574</td>\n",
       "      <td>-1.355574</td>\n",
       "      <td>-0.482043</td>\n",
       "      <td>-0.506655</td>\n",
       "      <td>-1.175735</td>\n",
       "      <td>2.475480</td>\n",
       "      <td>-0.28515</td>\n",
       "      <td>-0.235981</td>\n",
       "      <td>3.755222</td>\n",
       "      <td>-0.351541</td>\n",
       "      <td>-1.835115</td>\n",
       "    </tr>\n",
       "    <tr>\n",
       "      <th>5</th>\n",
       "      <td>0.827377</td>\n",
       "      <td>0.085791</td>\n",
       "      <td>-0.486337</td>\n",
       "      <td>-0.833016</td>\n",
       "      <td>-0.560975</td>\n",
       "      <td>-0.698197</td>\n",
       "      <td>-1.407101</td>\n",
       "      <td>-0.737695</td>\n",
       "      <td>0.737695</td>\n",
       "      <td>-0.482043</td>\n",
       "      <td>-0.506655</td>\n",
       "      <td>0.850532</td>\n",
       "      <td>-0.403962</td>\n",
       "      <td>-0.28515</td>\n",
       "      <td>-0.235981</td>\n",
       "      <td>-0.266296</td>\n",
       "      <td>-0.351541</td>\n",
       "      <td>0.544925</td>\n",
       "    </tr>\n",
       "  </tbody>\n",
       "</table>\n",
       "</div>"
      ],
      "text/plain": [
       "               Pclass       Age      Fare  Child_or_woman  Relative  \\\n",
       "PassengerId                                                           \n",
       "1            0.827377 -0.671036 -0.502445       -0.833016  0.059160   \n",
       "2           -1.566107  0.085791  0.786845        1.200457  0.059160   \n",
       "3            0.827377 -0.671036 -0.488854        1.200457 -0.560975   \n",
       "4           -1.566107  0.085791  0.420730        1.200457  0.059160   \n",
       "5            0.827377  0.085791 -0.486337       -0.833016 -0.560975   \n",
       "\n",
       "             Relative_less_than_four  Survaival_chance  Sex_female  Sex_male  \\\n",
       "PassengerId                                                                    \n",
       "1                           1.432260          0.710681   -0.737695  0.737695   \n",
       "2                           1.432260          0.710681    1.355574 -1.355574   \n",
       "3                          -0.698197          0.710681    1.355574 -1.355574   \n",
       "4                           1.432260          0.710681    1.355574 -1.355574   \n",
       "5                          -0.698197         -1.407101   -0.737695  0.737695   \n",
       "\n",
       "             Embarked_C  Title_Miss  Title_Mr  Title_Mrs  Title_Rare  \\\n",
       "PassengerId                                                            \n",
       "1             -0.482043   -0.506655  0.850532  -0.403962    -0.28515   \n",
       "2              2.074505   -0.506655 -1.175735   2.475480    -0.28515   \n",
       "3             -0.482043    1.973729 -1.175735  -0.403962    -0.28515   \n",
       "4             -0.482043   -0.506655 -1.175735   2.475480    -0.28515   \n",
       "5             -0.482043   -0.506655  0.850532  -0.403962    -0.28515   \n",
       "\n",
       "             Cabin_cat_B  Cabin_cat_C  Cabin_cat_Rare  Cabin_cat_missing  \n",
       "PassengerId                                                               \n",
       "1              -0.235981    -0.266296       -0.351541           0.544925  \n",
       "2              -0.235981     3.755222       -0.351541          -1.835115  \n",
       "3              -0.235981    -0.266296       -0.351541           0.544925  \n",
       "4              -0.235981     3.755222       -0.351541          -1.835115  \n",
       "5              -0.235981    -0.266296       -0.351541           0.544925  "
      ]
     },
     "execution_count": 70,
     "metadata": {},
     "output_type": "execute_result"
    }
   ],
   "source": [
    "X_train.head()"
   ]
  },
  {
   "cell_type": "code",
   "execution_count": 71,
   "id": "2f856dbd",
   "metadata": {},
   "outputs": [],
   "source": [
    "class PreProcessing(BaseEstimator,TransformerMixin):\n",
    "    def fit(self, X, y=None):\n",
    "        return self\n",
    "    \n",
    "    def transform(self, X):\n",
    "        X.drop(['Ticket'], inplace=True, axis=1)\n",
    "        X[\"Age\"] = X['Age'].fillna(99)\n",
    "        \n",
    "        X.loc[X['Age'] <= 16, 'Age'] = 0\n",
    "        X.loc[(X['Age'] > 16) & (X['Age'] <= 32), 'Age'] = 1\n",
    "        X.loc[(X['Age'] > 32) & (X['Age'] <= 48), 'Age'] = 2\n",
    "        X.loc[(X['Age'] > 48) & (X['Age'] <= 64), 'Age'] = 3\n",
    "        X.loc[X['Age'] > 64, 'Age'] = 4\n",
    "        \n",
    "        X['Cabin_cat'] = X['Cabin'].str[0]\n",
    "        X.drop('Cabin', inplace=True, axis=1)\n",
    "        \n",
    "        X['Fare'] = num_impute.transform(X[['Fare']])\n",
    "        X[['SibSp','Parch']] = relative_impute.transform(X[['SibSp','Parch']])\n",
    "        X[['Embarked','Pclass']] = cat_impute.transform(X[['Embarked','Pclass']])\n",
    "        X['Cabin_cat'] = cabin_impute.transform(X[['Cabin_cat']])\n",
    "        \n",
    "        X['Title'] = X['Name'].str.extract(' ([A-Za-z]+)\\.', expand=False)\n",
    "        X.drop('Name', inplace=True,axis=1)\n",
    "        \n",
    "        X['Child_or_woman'] = np.where(((X['Age'] == 0) | (X['Sex'] == 'female')) ,1,0)\n",
    "        \n",
    "        X['Relative'] = X['SibSp']+ X['Parch']\n",
    "        X.drop(['SibSp','Parch'],inplace=True, axis=1)\n",
    "        \n",
    "        X['Relative_less_than_four'] = np.where(((X['Relative'] > 0) & (X['Relative'] < 4)) ,1,0)\n",
    "        \n",
    "        X = rare_encoder.transform(X.fillna('Missing'))\n",
    "        \n",
    "        X['Survaival_chance'] = np.where(((X['Age'] == 0) | (X['Pclass'] == 1) | (X['Child_or_woman']==1) | (X['Title']=='Master') | (X['Title']=='Miss') | (X['Title']=='Mrs') | (X['Embarked']=='C') | (X['Relative_less_than_four']==1)),1,0)\n",
    "        \n",
    "        return X\n",
    "        \n",
    "class OneHot(BaseEstimator,TransformerMixin):\n",
    "    def fit(self, X, y=None):\n",
    "        return self\n",
    "    \n",
    "    def transform(self, X):\n",
    "        xindex = X.index\n",
    "        \n",
    "        one_hot = encoder.transform(X[['Sex','Embarked','Title','Cabin_cat']])\n",
    "        one_hot = pd.DataFrame(one_hot, index=xindex)\n",
    "        one_hot.columns = encoder.get_feature_names_out()\n",
    "        \n",
    "        X = X.drop(['Sex','Embarked','Title','Cabin_cat'], axis=1)\n",
    "        \n",
    "        X = pd.merge(X, one_hot, left_index=True, right_index=True) \n",
    "        \n",
    "        X = scaler.transform(X)\n",
    "        X = pd.DataFrame(X, index=xindex)\n",
    "        X.columns = scaler.get_feature_names_out()\n",
    "        \n",
    "        return X\n",
    "    \n",
    "class Feature_selection(BaseEstimator,TransformerMixin):\n",
    "    def fit(self, X, y=None):\n",
    "        return self\n",
    "    \n",
    "    def transform(self, X):\n",
    "        X = X[selected_columns]\n",
    "        \n",
    "        return X\n",
    "        "
   ]
  },
  {
   "cell_type": "code",
   "execution_count": 72,
   "id": "43877130",
   "metadata": {},
   "outputs": [],
   "source": [
    "pipe = Pipeline([\n",
    "    ('preprocessing', PreProcessing()),\n",
    "    ('encoding', OneHot()),\n",
    "    ('feature_selection',Feature_selection()),\n",
    "])"
   ]
  },
  {
   "cell_type": "markdown",
   "id": "cdbccd25",
   "metadata": {},
   "source": [
    "## Create a new train set and add preprocessing steps"
   ]
  },
  {
   "cell_type": "code",
   "execution_count": 73,
   "id": "ec15f1e7",
   "metadata": {},
   "outputs": [],
   "source": [
    "X_train = train.drop(['Survived'],axis=1)\n",
    "X_train = pipe.fit_transform(X_train)"
   ]
  },
  {
   "cell_type": "markdown",
   "id": "fe82f335",
   "metadata": {},
   "source": [
    "## Application of ML models"
   ]
  },
  {
   "cell_type": "code",
   "execution_count": 74,
   "id": "6d9e0be0",
   "metadata": {},
   "outputs": [
    {
     "data": {
      "text/plain": [
       "0.8227215980024969"
      ]
     },
     "execution_count": 74,
     "metadata": {},
     "output_type": "execute_result"
    }
   ],
   "source": [
    "model_xgb = XGBClassifier(booster='gbtree', objective='binary:logistic', random_state=11)\n",
    "cross_check_xgb = cross_val_score(model_xgb,X_train, y_train, cv=10)\n",
    "cross_check_xgb.mean()"
   ]
  },
  {
   "cell_type": "code",
   "execution_count": 75,
   "id": "082d0b6e",
   "metadata": {},
   "outputs": [
    {
     "data": {
      "text/plain": [
       "0.8294132334581772"
      ]
     },
     "execution_count": 75,
     "metadata": {},
     "output_type": "execute_result"
    }
   ],
   "source": [
    "model_svm = SVC(random_state=42)\n",
    "cross_check_svm = cross_val_score(model_svm,X_train, y_train, cv=10)\n",
    "cross_check_svm.mean()"
   ]
  },
  {
   "cell_type": "code",
   "execution_count": 76,
   "id": "a2274d4f",
   "metadata": {},
   "outputs": [
    {
     "data": {
      "text/plain": [
       "0.8271910112359551"
      ]
     },
     "execution_count": 76,
     "metadata": {},
     "output_type": "execute_result"
    }
   ],
   "source": [
    "model_reg = LogisticRegression()\n",
    "cross_check_reg = cross_val_score(model_reg,X_train, y_train, cv=10)\n",
    "cross_check_reg.mean()"
   ]
  },
  {
   "cell_type": "code",
   "execution_count": 77,
   "id": "4b6c64c7",
   "metadata": {},
   "outputs": [
    {
     "data": {
      "text/plain": [
       "0.8137078651685394"
      ]
     },
     "execution_count": 77,
     "metadata": {},
     "output_type": "execute_result"
    }
   ],
   "source": [
    "model_rf = RandomForestClassifier()\n",
    "cross_check_rf = cross_val_score(model_rf,X_train, y_train, cv=10)\n",
    "cross_check_rf.mean()"
   ]
  },
  {
   "cell_type": "code",
   "execution_count": 78,
   "id": "bdd94e94",
   "metadata": {},
   "outputs": [],
   "source": [
    "#               params={'gamma': [0,0.01,0.05,0.1,0.5,1,2,3],\n",
    "#                     'colsample_bynode':[0.5,0.6,0.7,0.8,0.9,1],\n",
    "#                     'colsample_bytree':[0.5,0.6,0.7,0.8,0.9,1],\n",
    "#                     'colsample_bylevel':[0.5,0.6,0.7,0.8,0.9,1],\n",
    "#                     'subsample':[0.5,0.6,0.7,0.8,0.9,1],\n",
    "#                     'min_child_weight':[1,2,3,4,5],\n",
    "#                     'learning_rate':[0.1,0.2,0.3,0.4,0.5],\n",
    "#                     'max_depth':[1,2,3,4,5,6,7,8,9,None],\n",
    "#                     'n_estimators': [5,10,15,20,25,50,100,200,400,800]},\n",
    "#            random=True)"
   ]
  },
  {
   "cell_type": "code",
   "execution_count": 79,
   "id": "61fcb465",
   "metadata": {},
   "outputs": [],
   "source": [
    "params = {'gamma': [0.05],\n",
    "          'colsample_bylevel':[0.9],\n",
    "          'subsample':[0.8],\n",
    "          'max_depth':[5],\n",
    "          'n_estimators': [5]\n",
    "}"
   ]
  },
  {
   "cell_type": "code",
   "execution_count": 80,
   "id": "b80d7bc9",
   "metadata": {},
   "outputs": [],
   "source": [
    "# xgb = XGBClassifier(booster='gbtree', objective='binary:logistic',random_state=11)\n",
    "# kfold = StratifiedKFold(n_splits=5,shuffle=True, random_state=11)\n",
    "# grid = GridSearchCV(xgb, params, cv=kfold, n_jobs=-1)\n",
    "# grid.fit(X_train, y_train)\n",
    "# best_params = grid.best_params_\n",
    "# print(\"Best params: \", best_params) \n",
    "# best_score = grid.best_score_\n",
    "# print(f\"Best score: {best_score:.5f}\")"
   ]
  },
  {
   "cell_type": "code",
   "execution_count": 81,
   "id": "b88a8153",
   "metadata": {},
   "outputs": [
    {
     "data": {
      "text/plain": [
       "0.8373158551810237"
      ]
     },
     "execution_count": 81,
     "metadata": {},
     "output_type": "execute_result"
    }
   ],
   "source": [
    "model_xgb = XGBClassifier(booster='gbtree', objective='binary:logistic',\n",
    "                           max_depth=4, n_estimators=50, subsample=0.9,colsample_bylevel=1,\n",
    "                         gamma=0.1, random_state=11,learning_rate=0.1)\n",
    "model_xgb.fit(X_train, y_train)\n",
    "cross_check_xgb = cross_val_score(model_xgb, X_train, y_train, cv=10)\n",
    "cross_check_xgb.mean()"
   ]
  },
  {
   "cell_type": "code",
   "execution_count": 82,
   "id": "ee331896",
   "metadata": {},
   "outputs": [],
   "source": [
    "# param_grid = [\n",
    "#     {'C':[0.1,0.4,0.5,0.6,0.7],\n",
    "#     'gamma':[0.01,0.08,0.09,0.1,0.2],\n",
    "#     'kernel':['poly', 'rbf', 'sigmoid']},\n",
    "# ]\n",
    "\n",
    "# optimal_params_svm = GridSearchCV(SVC(), param_grid, cv=10, scoring='accuracy',verbose=0)\n",
    "# optimal_params_svm.fit(X_train, y_train)\n",
    "# print(optimal_params_svm.best_params_)"
   ]
  },
  {
   "cell_type": "code",
   "execution_count": 83,
   "id": "4ad56e98",
   "metadata": {},
   "outputs": [
    {
     "data": {
      "text/plain": [
       "0.832784019975031"
      ]
     },
     "execution_count": 83,
     "metadata": {},
     "output_type": "execute_result"
    }
   ],
   "source": [
    "model_svm = SVC(random_state=11,gamma=0.15, C=0.7, kernel='rbf')\n",
    "model_svm.fit(X_train, y_train)\n",
    "cross_check_svm = cross_val_score(model_svm, X_train, y_train, cv=10)\n",
    "cross_check_svm.mean()"
   ]
  },
  {
   "cell_type": "code",
   "execution_count": 84,
   "id": "bff9d456",
   "metadata": {},
   "outputs": [],
   "source": [
    "# param_lin = [\n",
    "#     {'solver': ['newton-cg','liblinear'],\n",
    "#     'penalty': ['l2'],\n",
    "#      'C': [100, 10, 1.0, 0.1, 0.01]},\n",
    "# ]\n",
    "\n",
    "# optimal_params_lin = GridSearchCV(LogisticRegression(), param_lin, cv=10, scoring='accuracy',verbose=0)\n",
    "# optimal_params_lin.fit(X_train, y_train)\n",
    "# print(optimal_params_lin.best_params_)"
   ]
  },
  {
   "cell_type": "code",
   "execution_count": 85,
   "id": "60955f10",
   "metadata": {},
   "outputs": [
    {
     "data": {
      "text/plain": [
       "0.830561797752809"
      ]
     },
     "execution_count": 85,
     "metadata": {},
     "output_type": "execute_result"
    }
   ],
   "source": [
    "model_reg = LogisticRegression(C=0.1, penalty='l2', solver='newton-cg')\n",
    "model_reg.fit(X_train, y_train)\n",
    "cross_check_reg = cross_val_score(model_reg,X_train, y_train, cv=10)\n",
    "cross_check_reg.mean()"
   ]
  },
  {
   "cell_type": "code",
   "execution_count": 86,
   "id": "ddf2dc97",
   "metadata": {},
   "outputs": [],
   "source": [
    "# grid_search(params={'min_samples_split':[2,4,10,14,18],\n",
    "#                    'min_samples_leaf':[1,5,10,15],\n",
    "#                     'max_depth':[1,2,3,4,5,6,7,8,9,None],\n",
    "#                     'n_estimators': [5,10,25,50,75,100]},\n",
    "#            random=True)"
   ]
  },
  {
   "cell_type": "code",
   "execution_count": 87,
   "id": "e15dc499",
   "metadata": {},
   "outputs": [],
   "source": [
    "params_rf={'n_estimators': [5,10,25,50,75,100]\n",
    "          }"
   ]
  },
  {
   "cell_type": "code",
   "execution_count": 88,
   "id": "ee806d54",
   "metadata": {},
   "outputs": [],
   "source": [
    "# rf = RandomForestClassifier(random_state=11)\n",
    "# kfold = StratifiedKFold(n_splits=5,shuffle=True, random_state=11)\n",
    "# grid = GridSearchCV(rf, params_rf, cv=kfold, n_jobs=-1)\n",
    "# grid.fit(X_train, y_train)\n",
    "# best_params = grid.best_params_\n",
    "# print(\"Best params: \", best_params)\n",
    "# best_score = grid.best_score_\n",
    "# print(f\"Best score: {best_score:.5f}\")"
   ]
  },
  {
   "cell_type": "code",
   "execution_count": 89,
   "id": "48feef65",
   "metadata": {},
   "outputs": [
    {
     "data": {
      "text/plain": [
       "0.8316853932584269"
      ]
     },
     "execution_count": 89,
     "metadata": {},
     "output_type": "execute_result"
    }
   ],
   "source": [
    "model_rf = RandomForestClassifier(max_depth=7, min_samples_leaf=2, min_samples_split=5, n_estimators=60, random_state=11)\n",
    "cross_check_rf = cross_val_score(model_rf,X_train, y_train, cv=10)\n",
    "cross_check_rf.mean()"
   ]
  },
  {
   "cell_type": "markdown",
   "id": "747d6869",
   "metadata": {},
   "source": [
    "## Ensemble Methods"
   ]
  },
  {
   "cell_type": "code",
   "execution_count": 90,
   "id": "7a401eaa",
   "metadata": {},
   "outputs": [
    {
     "data": {
      "text/plain": [
       "0.8283270911360798"
      ]
     },
     "execution_count": 90,
     "metadata": {},
     "output_type": "execute_result"
    }
   ],
   "source": [
    "model = VotingClassifier([\n",
    "    ('xgb',model_xgb),\n",
    "    ('svm',model_svm),\n",
    "    ('reg',model_reg),\n",
    "    ('rf',model_rf)\n",
    "], voting='hard')\n",
    "\n",
    "cross_check_ensemble = cross_val_score(model, X_train, y_train, cv=10)\n",
    "cross_check_ensemble.mean()"
   ]
  },
  {
   "cell_type": "code",
   "execution_count": 91,
   "id": "3380972c",
   "metadata": {},
   "outputs": [
    {
     "data": {
      "text/html": [
       "<style>#sk-container-id-1 {color: black;background-color: white;}#sk-container-id-1 pre{padding: 0;}#sk-container-id-1 div.sk-toggleable {background-color: white;}#sk-container-id-1 label.sk-toggleable__label {cursor: pointer;display: block;width: 100%;margin-bottom: 0;padding: 0.3em;box-sizing: border-box;text-align: center;}#sk-container-id-1 label.sk-toggleable__label-arrow:before {content: \"▸\";float: left;margin-right: 0.25em;color: #696969;}#sk-container-id-1 label.sk-toggleable__label-arrow:hover:before {color: black;}#sk-container-id-1 div.sk-estimator:hover label.sk-toggleable__label-arrow:before {color: black;}#sk-container-id-1 div.sk-toggleable__content {max-height: 0;max-width: 0;overflow: hidden;text-align: left;background-color: #f0f8ff;}#sk-container-id-1 div.sk-toggleable__content pre {margin: 0.2em;color: black;border-radius: 0.25em;background-color: #f0f8ff;}#sk-container-id-1 input.sk-toggleable__control:checked~div.sk-toggleable__content {max-height: 200px;max-width: 100%;overflow: auto;}#sk-container-id-1 input.sk-toggleable__control:checked~label.sk-toggleable__label-arrow:before {content: \"▾\";}#sk-container-id-1 div.sk-estimator input.sk-toggleable__control:checked~label.sk-toggleable__label {background-color: #d4ebff;}#sk-container-id-1 div.sk-label input.sk-toggleable__control:checked~label.sk-toggleable__label {background-color: #d4ebff;}#sk-container-id-1 input.sk-hidden--visually {border: 0;clip: rect(1px 1px 1px 1px);clip: rect(1px, 1px, 1px, 1px);height: 1px;margin: -1px;overflow: hidden;padding: 0;position: absolute;width: 1px;}#sk-container-id-1 div.sk-estimator {font-family: monospace;background-color: #f0f8ff;border: 1px dotted black;border-radius: 0.25em;box-sizing: border-box;margin-bottom: 0.5em;}#sk-container-id-1 div.sk-estimator:hover {background-color: #d4ebff;}#sk-container-id-1 div.sk-parallel-item::after {content: \"\";width: 100%;border-bottom: 1px solid gray;flex-grow: 1;}#sk-container-id-1 div.sk-label:hover label.sk-toggleable__label {background-color: #d4ebff;}#sk-container-id-1 div.sk-serial::before {content: \"\";position: absolute;border-left: 1px solid gray;box-sizing: border-box;top: 0;bottom: 0;left: 50%;z-index: 0;}#sk-container-id-1 div.sk-serial {display: flex;flex-direction: column;align-items: center;background-color: white;padding-right: 0.2em;padding-left: 0.2em;position: relative;}#sk-container-id-1 div.sk-item {position: relative;z-index: 1;}#sk-container-id-1 div.sk-parallel {display: flex;align-items: stretch;justify-content: center;background-color: white;position: relative;}#sk-container-id-1 div.sk-item::before, #sk-container-id-1 div.sk-parallel-item::before {content: \"\";position: absolute;border-left: 1px solid gray;box-sizing: border-box;top: 0;bottom: 0;left: 50%;z-index: -1;}#sk-container-id-1 div.sk-parallel-item {display: flex;flex-direction: column;z-index: 1;position: relative;background-color: white;}#sk-container-id-1 div.sk-parallel-item:first-child::after {align-self: flex-end;width: 50%;}#sk-container-id-1 div.sk-parallel-item:last-child::after {align-self: flex-start;width: 50%;}#sk-container-id-1 div.sk-parallel-item:only-child::after {width: 0;}#sk-container-id-1 div.sk-dashed-wrapped {border: 1px dashed gray;margin: 0 0.4em 0.5em 0.4em;box-sizing: border-box;padding-bottom: 0.4em;background-color: white;}#sk-container-id-1 div.sk-label label {font-family: monospace;font-weight: bold;display: inline-block;line-height: 1.2em;}#sk-container-id-1 div.sk-label-container {text-align: center;}#sk-container-id-1 div.sk-container {/* jupyter's `normalize.less` sets `[hidden] { display: none; }` but bootstrap.min.css set `[hidden] { display: none !important; }` so we also need the `!important` here to be able to override the default hidden behavior on the sphinx rendered scikit-learn.org. See: https://github.com/scikit-learn/scikit-learn/issues/21755 */display: inline-block !important;position: relative;}#sk-container-id-1 div.sk-text-repr-fallback {display: none;}</style><div id=\"sk-container-id-1\" class=\"sk-top-container\"><div class=\"sk-text-repr-fallback\"><pre>VotingClassifier(estimators=[(&#x27;xgb&#x27;,\n",
       "                              XGBClassifier(base_score=0.5, booster=&#x27;gbtree&#x27;,\n",
       "                                            callbacks=None, colsample_bylevel=1,\n",
       "                                            colsample_bynode=1,\n",
       "                                            colsample_bytree=1,\n",
       "                                            early_stopping_rounds=None,\n",
       "                                            enable_categorical=False,\n",
       "                                            eval_metric=None, gamma=0.1,\n",
       "                                            gpu_id=-1, grow_policy=&#x27;depthwise&#x27;,\n",
       "                                            importance_type=None,\n",
       "                                            interaction_constraints=&#x27;&#x27;,\n",
       "                                            learning_rate=0.1, max_bin=256,\n",
       "                                            max_...\n",
       "                                            missing=nan,\n",
       "                                            monotone_constraints=&#x27;()&#x27;,\n",
       "                                            n_estimators=50, n_jobs=0,\n",
       "                                            num_parallel_tree=1,\n",
       "                                            predictor=&#x27;auto&#x27;, random_state=11,\n",
       "                                            reg_alpha=0, reg_lambda=1, ...)),\n",
       "                             (&#x27;svm&#x27;, SVC(C=0.7, gamma=0.15, random_state=11)),\n",
       "                             (&#x27;reg&#x27;,\n",
       "                              LogisticRegression(C=0.1, solver=&#x27;newton-cg&#x27;)),\n",
       "                             (&#x27;rf&#x27;,\n",
       "                              RandomForestClassifier(max_depth=7,\n",
       "                                                     min_samples_leaf=2,\n",
       "                                                     min_samples_split=5,\n",
       "                                                     n_estimators=60,\n",
       "                                                     random_state=11))])</pre><b>In a Jupyter environment, please rerun this cell to show the HTML representation or trust the notebook. <br />On GitHub, the HTML representation is unable to render, please try loading this page with nbviewer.org.</b></div><div class=\"sk-container\" hidden><div class=\"sk-item sk-dashed-wrapped\"><div class=\"sk-label-container\"><div class=\"sk-label sk-toggleable\"><input class=\"sk-toggleable__control sk-hidden--visually\" id=\"sk-estimator-id-1\" type=\"checkbox\" ><label for=\"sk-estimator-id-1\" class=\"sk-toggleable__label sk-toggleable__label-arrow\">VotingClassifier</label><div class=\"sk-toggleable__content\"><pre>VotingClassifier(estimators=[(&#x27;xgb&#x27;,\n",
       "                              XGBClassifier(base_score=0.5, booster=&#x27;gbtree&#x27;,\n",
       "                                            callbacks=None, colsample_bylevel=1,\n",
       "                                            colsample_bynode=1,\n",
       "                                            colsample_bytree=1,\n",
       "                                            early_stopping_rounds=None,\n",
       "                                            enable_categorical=False,\n",
       "                                            eval_metric=None, gamma=0.1,\n",
       "                                            gpu_id=-1, grow_policy=&#x27;depthwise&#x27;,\n",
       "                                            importance_type=None,\n",
       "                                            interaction_constraints=&#x27;&#x27;,\n",
       "                                            learning_rate=0.1, max_bin=256,\n",
       "                                            max_...\n",
       "                                            missing=nan,\n",
       "                                            monotone_constraints=&#x27;()&#x27;,\n",
       "                                            n_estimators=50, n_jobs=0,\n",
       "                                            num_parallel_tree=1,\n",
       "                                            predictor=&#x27;auto&#x27;, random_state=11,\n",
       "                                            reg_alpha=0, reg_lambda=1, ...)),\n",
       "                             (&#x27;svm&#x27;, SVC(C=0.7, gamma=0.15, random_state=11)),\n",
       "                             (&#x27;reg&#x27;,\n",
       "                              LogisticRegression(C=0.1, solver=&#x27;newton-cg&#x27;)),\n",
       "                             (&#x27;rf&#x27;,\n",
       "                              RandomForestClassifier(max_depth=7,\n",
       "                                                     min_samples_leaf=2,\n",
       "                                                     min_samples_split=5,\n",
       "                                                     n_estimators=60,\n",
       "                                                     random_state=11))])</pre></div></div></div><div class=\"sk-parallel\"><div class=\"sk-parallel-item\"><div class=\"sk-item\"><div class=\"sk-label-container\"><div class=\"sk-label sk-toggleable\"><label>xgb</label></div></div><div class=\"sk-serial\"><div class=\"sk-item\"><div class=\"sk-estimator sk-toggleable\"><input class=\"sk-toggleable__control sk-hidden--visually\" id=\"sk-estimator-id-2\" type=\"checkbox\" ><label for=\"sk-estimator-id-2\" class=\"sk-toggleable__label sk-toggleable__label-arrow\">XGBClassifier</label><div class=\"sk-toggleable__content\"><pre>XGBClassifier(base_score=0.5, booster=&#x27;gbtree&#x27;, callbacks=None,\n",
       "              colsample_bylevel=1, colsample_bynode=1, colsample_bytree=1,\n",
       "              early_stopping_rounds=None, enable_categorical=False,\n",
       "              eval_metric=None, gamma=0.1, gpu_id=-1, grow_policy=&#x27;depthwise&#x27;,\n",
       "              importance_type=None, interaction_constraints=&#x27;&#x27;,\n",
       "              learning_rate=0.1, max_bin=256, max_cat_to_onehot=4,\n",
       "              max_delta_step=0, max_depth=4, max_leaves=0, min_child_weight=1,\n",
       "              missing=nan, monotone_constraints=&#x27;()&#x27;, n_estimators=50, n_jobs=0,\n",
       "              num_parallel_tree=1, predictor=&#x27;auto&#x27;, random_state=11,\n",
       "              reg_alpha=0, reg_lambda=1, ...)</pre></div></div></div></div></div></div><div class=\"sk-parallel-item\"><div class=\"sk-item\"><div class=\"sk-label-container\"><div class=\"sk-label sk-toggleable\"><label>svm</label></div></div><div class=\"sk-serial\"><div class=\"sk-item\"><div class=\"sk-estimator sk-toggleable\"><input class=\"sk-toggleable__control sk-hidden--visually\" id=\"sk-estimator-id-3\" type=\"checkbox\" ><label for=\"sk-estimator-id-3\" class=\"sk-toggleable__label sk-toggleable__label-arrow\">SVC</label><div class=\"sk-toggleable__content\"><pre>SVC(C=0.7, gamma=0.15, random_state=11)</pre></div></div></div></div></div></div><div class=\"sk-parallel-item\"><div class=\"sk-item\"><div class=\"sk-label-container\"><div class=\"sk-label sk-toggleable\"><label>reg</label></div></div><div class=\"sk-serial\"><div class=\"sk-item\"><div class=\"sk-estimator sk-toggleable\"><input class=\"sk-toggleable__control sk-hidden--visually\" id=\"sk-estimator-id-4\" type=\"checkbox\" ><label for=\"sk-estimator-id-4\" class=\"sk-toggleable__label sk-toggleable__label-arrow\">LogisticRegression</label><div class=\"sk-toggleable__content\"><pre>LogisticRegression(C=0.1, solver=&#x27;newton-cg&#x27;)</pre></div></div></div></div></div></div><div class=\"sk-parallel-item\"><div class=\"sk-item\"><div class=\"sk-label-container\"><div class=\"sk-label sk-toggleable\"><label>rf</label></div></div><div class=\"sk-serial\"><div class=\"sk-item\"><div class=\"sk-estimator sk-toggleable\"><input class=\"sk-toggleable__control sk-hidden--visually\" id=\"sk-estimator-id-5\" type=\"checkbox\" ><label for=\"sk-estimator-id-5\" class=\"sk-toggleable__label sk-toggleable__label-arrow\">RandomForestClassifier</label><div class=\"sk-toggleable__content\"><pre>RandomForestClassifier(max_depth=7, min_samples_leaf=2, min_samples_split=5,\n",
       "                       n_estimators=60, random_state=11)</pre></div></div></div></div></div></div></div></div></div></div>"
      ],
      "text/plain": [
       "VotingClassifier(estimators=[('xgb',\n",
       "                              XGBClassifier(base_score=0.5, booster='gbtree',\n",
       "                                            callbacks=None, colsample_bylevel=1,\n",
       "                                            colsample_bynode=1,\n",
       "                                            colsample_bytree=1,\n",
       "                                            early_stopping_rounds=None,\n",
       "                                            enable_categorical=False,\n",
       "                                            eval_metric=None, gamma=0.1,\n",
       "                                            gpu_id=-1, grow_policy='depthwise',\n",
       "                                            importance_type=None,\n",
       "                                            interaction_constraints='',\n",
       "                                            learning_rate=0.1, max_bin=256,\n",
       "                                            max_...\n",
       "                                            missing=nan,\n",
       "                                            monotone_constraints='()',\n",
       "                                            n_estimators=50, n_jobs=0,\n",
       "                                            num_parallel_tree=1,\n",
       "                                            predictor='auto', random_state=11,\n",
       "                                            reg_alpha=0, reg_lambda=1, ...)),\n",
       "                             ('svm', SVC(C=0.7, gamma=0.15, random_state=11)),\n",
       "                             ('reg',\n",
       "                              LogisticRegression(C=0.1, solver='newton-cg')),\n",
       "                             ('rf',\n",
       "                              RandomForestClassifier(max_depth=7,\n",
       "                                                     min_samples_leaf=2,\n",
       "                                                     min_samples_split=5,\n",
       "                                                     n_estimators=60,\n",
       "                                                     random_state=11))])"
      ]
     },
     "execution_count": 91,
     "metadata": {},
     "output_type": "execute_result"
    }
   ],
   "source": [
    "model.fit(X_train, y_train)"
   ]
  },
  {
   "cell_type": "code",
   "execution_count": 92,
   "id": "3e3c666f",
   "metadata": {},
   "outputs": [],
   "source": [
    "test_id = test.index"
   ]
  },
  {
   "cell_type": "code",
   "execution_count": 93,
   "id": "925742e9",
   "metadata": {},
   "outputs": [],
   "source": [
    "test = pipe.transform(test)"
   ]
  },
  {
   "cell_type": "code",
   "execution_count": 94,
   "id": "d90e1168",
   "metadata": {},
   "outputs": [],
   "source": [
    "test_pred_ensemble = model.predict(test)"
   ]
  },
  {
   "cell_type": "code",
   "execution_count": 95,
   "id": "23eb9652",
   "metadata": {},
   "outputs": [],
   "source": [
    "test_pred_ensemble = pd.Series(test_pred_ensemble)"
   ]
  },
  {
   "cell_type": "code",
   "execution_count": 96,
   "id": "4cb5da43",
   "metadata": {},
   "outputs": [],
   "source": [
    "Pasenger_no = pd.Series(test_id)"
   ]
  },
  {
   "cell_type": "code",
   "execution_count": 97,
   "id": "8010ef1c",
   "metadata": {},
   "outputs": [],
   "source": [
    "ensemble = pd.DataFrame({'PassengerId':test_id.values, 'Survived':test_pred_ensemble.values}).set_index(\"PassengerId\")"
   ]
  },
  {
   "cell_type": "code",
   "execution_count": 98,
   "id": "8c1a083f",
   "metadata": {},
   "outputs": [],
   "source": [
    "ensemble.to_csv('Titanic - Classification Project.csv')"
   ]
  },
  {
   "cell_type": "markdown",
   "id": "28ad0315",
   "metadata": {},
   "source": [
    "### Kaggle Leaderboard Score: 0.78708"
   ]
  }
 ],
 "metadata": {
  "kernelspec": {
   "display_name": "Python 3 (ipykernel)",
   "language": "python",
   "name": "python3"
  },
  "language_info": {
   "codemirror_mode": {
    "name": "ipython",
    "version": 3
   },
   "file_extension": ".py",
   "mimetype": "text/x-python",
   "name": "python",
   "nbconvert_exporter": "python",
   "pygments_lexer": "ipython3",
   "version": "3.9.12"
  }
 },
 "nbformat": 4,
 "nbformat_minor": 5
}
